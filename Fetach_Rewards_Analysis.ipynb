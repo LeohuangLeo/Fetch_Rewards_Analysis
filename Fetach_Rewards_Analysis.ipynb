{
  "nbformat": 4,
  "nbformat_minor": 0,
  "metadata": {
    "colab": {
      "provenance": []
    },
    "kernelspec": {
      "name": "python3",
      "display_name": "Python 3"
    },
    "language_info": {
      "name": "python"
    }
  },
  "cells": [
    {
      "cell_type": "markdown",
      "source": [
        "### Read source data to spark dataframe\n",
        "\n",
        "*   brands_df: brands data\n",
        "*   receipts_df: receipts data\n",
        "*   users_df: users data\n",
        "\n",
        "Print out table schema\n"
      ],
      "metadata": {
        "id": "aBOXCvP7fu7Q"
      }
    },
    {
      "cell_type": "code",
      "execution_count": 36,
      "metadata": {
        "colab": {
          "base_uri": "https://localhost:8080/"
        },
        "id": "9a9f91afAQa1",
        "outputId": "d64935ac-0eae-496b-d32b-d5c0324041b0"
      },
      "outputs": [
        {
          "output_type": "stream",
          "name": "stdout",
          "text": [
            "Requirement already satisfied: pyspark in /usr/local/lib/python3.11/dist-packages (3.5.4)\n",
            "Requirement already satisfied: py4j==0.10.9.7 in /usr/local/lib/python3.11/dist-packages (from pyspark) (0.10.9.7)\n",
            "root\n",
            " |-- _id: struct (nullable = true)\n",
            " |    |-- $oid: string (nullable = true)\n",
            " |-- barcode: string (nullable = true)\n",
            " |-- brandCode: string (nullable = true)\n",
            " |-- category: string (nullable = true)\n",
            " |-- categoryCode: string (nullable = true)\n",
            " |-- cpg: struct (nullable = true)\n",
            " |    |-- $id: struct (nullable = true)\n",
            " |    |    |-- $oid: string (nullable = true)\n",
            " |    |-- $ref: string (nullable = true)\n",
            " |-- name: string (nullable = true)\n",
            " |-- topBrand: boolean (nullable = true)\n",
            "\n",
            "root\n",
            " |-- _id: struct (nullable = true)\n",
            " |    |-- $oid: string (nullable = true)\n",
            " |-- bonusPointsEarned: long (nullable = true)\n",
            " |-- bonusPointsEarnedReason: string (nullable = true)\n",
            " |-- createDate: struct (nullable = true)\n",
            " |    |-- $date: long (nullable = true)\n",
            " |-- dateScanned: struct (nullable = true)\n",
            " |    |-- $date: long (nullable = true)\n",
            " |-- finishedDate: struct (nullable = true)\n",
            " |    |-- $date: long (nullable = true)\n",
            " |-- modifyDate: struct (nullable = true)\n",
            " |    |-- $date: long (nullable = true)\n",
            " |-- pointsAwardedDate: struct (nullable = true)\n",
            " |    |-- $date: long (nullable = true)\n",
            " |-- pointsEarned: string (nullable = true)\n",
            " |-- purchaseDate: struct (nullable = true)\n",
            " |    |-- $date: long (nullable = true)\n",
            " |-- purchasedItemCount: long (nullable = true)\n",
            " |-- rewardsReceiptItemList: array (nullable = true)\n",
            " |    |-- element: struct (containsNull = true)\n",
            " |    |    |-- barcode: string (nullable = true)\n",
            " |    |    |-- brandCode: string (nullable = true)\n",
            " |    |    |-- competitiveProduct: boolean (nullable = true)\n",
            " |    |    |-- competitorRewardsGroup: string (nullable = true)\n",
            " |    |    |-- deleted: boolean (nullable = true)\n",
            " |    |    |-- description: string (nullable = true)\n",
            " |    |    |-- discountedItemPrice: string (nullable = true)\n",
            " |    |    |-- finalPrice: string (nullable = true)\n",
            " |    |    |-- itemNumber: string (nullable = true)\n",
            " |    |    |-- itemPrice: string (nullable = true)\n",
            " |    |    |-- metabriteCampaignId: string (nullable = true)\n",
            " |    |    |-- needsFetchReview: boolean (nullable = true)\n",
            " |    |    |-- needsFetchReviewReason: string (nullable = true)\n",
            " |    |    |-- originalFinalPrice: string (nullable = true)\n",
            " |    |    |-- originalMetaBriteBarcode: string (nullable = true)\n",
            " |    |    |-- originalMetaBriteDescription: string (nullable = true)\n",
            " |    |    |-- originalMetaBriteItemPrice: string (nullable = true)\n",
            " |    |    |-- originalMetaBriteQuantityPurchased: long (nullable = true)\n",
            " |    |    |-- originalReceiptItemText: string (nullable = true)\n",
            " |    |    |-- partnerItemId: string (nullable = true)\n",
            " |    |    |-- pointsEarned: string (nullable = true)\n",
            " |    |    |-- pointsNotAwardedReason: string (nullable = true)\n",
            " |    |    |-- pointsPayerId: string (nullable = true)\n",
            " |    |    |-- preventTargetGapPoints: boolean (nullable = true)\n",
            " |    |    |-- priceAfterCoupon: string (nullable = true)\n",
            " |    |    |-- quantityPurchased: long (nullable = true)\n",
            " |    |    |-- rewardsGroup: string (nullable = true)\n",
            " |    |    |-- rewardsProductPartnerId: string (nullable = true)\n",
            " |    |    |-- targetPrice: string (nullable = true)\n",
            " |    |    |-- userFlaggedBarcode: string (nullable = true)\n",
            " |    |    |-- userFlaggedDescription: string (nullable = true)\n",
            " |    |    |-- userFlaggedNewItem: boolean (nullable = true)\n",
            " |    |    |-- userFlaggedPrice: string (nullable = true)\n",
            " |    |    |-- userFlaggedQuantity: long (nullable = true)\n",
            " |-- rewardsReceiptStatus: string (nullable = true)\n",
            " |-- totalSpent: string (nullable = true)\n",
            " |-- userId: string (nullable = true)\n",
            "\n",
            "root\n",
            " |-- _id: struct (nullable = true)\n",
            " |    |-- $oid: string (nullable = true)\n",
            " |-- active: boolean (nullable = true)\n",
            " |-- createdDate: struct (nullable = true)\n",
            " |    |-- $date: long (nullable = true)\n",
            " |-- lastLogin: struct (nullable = true)\n",
            " |    |-- $date: long (nullable = true)\n",
            " |-- role: string (nullable = true)\n",
            " |-- signUpSource: string (nullable = true)\n",
            " |-- state: string (nullable = true)\n",
            "\n"
          ]
        }
      ],
      "source": [
        "# prompt: Read data from json file and convert it into spark dataframe because i will need to leverage spark sql to write some queries for data analysis. I have 3 json files need to read: brands.json, receipts.json, and user.json\n",
        "\n",
        "!pip install pyspark\n",
        "\n",
        "from pyspark.sql import SparkSession\n",
        "from pyspark.sql.types import *\n",
        "\n",
        "spark = SparkSession.builder.appName(\"ReadJsonFiles\").getOrCreate()\n",
        "\n",
        "# Read JSON files into Spark DataFrames\n",
        "brands_df = spark.read.json(\"brands.json\")\n",
        "receipts_df = spark.read.json(\"receipts.json\")\n",
        "users_df = spark.read.json(\"users.json\")\n",
        "\n",
        "# Show the first few rows of each DataFrame\n",
        "brands_df.printSchema()\n",
        "receipts_df.printSchema()\n",
        "users_df.printSchema()\n"
      ]
    },
    {
      "cell_type": "markdown",
      "source": [
        "## Refactor and diagram a new structured relational data model\n",
        "\n",
        "I notice that rewardsReceiptItemList field contains lots of information related to the items that user bought. It may not be needed all the time and we can separate them into a different tables with the grain of receipt_id, barcode, brandCode. By designing table in this way, we can join it back to receipts table if there is any use case need both of them in the future.\n",
        "\n",
        "\n",
        "\n",
        "*   receipts_items_df: new table created with grain of <receipt_id, barcode, brandCode>\n",
        "*   new_receipts_df: same receipts table but refine rewardsReceiptItemList a bit to keep only <barcode, brandCode>\n",
        "\n"
      ],
      "metadata": {
        "id": "LcUqoQRHg6PB"
      }
    },
    {
      "cell_type": "code",
      "source": [],
      "metadata": {
        "id": "z577BFAEtkVB"
      },
      "execution_count": null,
      "outputs": []
    },
    {
      "cell_type": "code",
      "source": [
        "# prompt: parse array\n",
        "\n",
        "from pyspark.sql.functions import explode\n",
        "from pyspark.sql.functions import struct\n",
        "from pyspark.sql.functions import col\n",
        "from pyspark.sql.functions import transform, struct, col\n",
        "\n",
        "\n",
        "\n",
        "\n",
        "# Explode the rewardsReceiptItemList array in the receipts DataFrame\n",
        "exploded_receipts_df = receipts_df.select(\n",
        "    \"_id\", \"userId\", \"dateScanned\", \"createDate\", explode(\"rewardsReceiptItemList\").alias(\"item\")\n",
        ")\n",
        "\n",
        "# Create a new column called \"key\" containing the struct\n",
        "exploded_receipts_df = exploded_receipts_df.withColumn(\n",
        "    \"key\", struct(\"_id\", \"item.barcode\", \"item.brandCode\")\n",
        ")\n",
        "\n",
        "# Get all columns from \"item\" struct\n",
        "item_columns = exploded_receipts_df.select(\"item.*\").columns\n",
        "\n",
        "# Exclude \"barcode\" and \"brandCode\"\n",
        "selected_columns = [\n",
        "    col(\"item.\" + c) for c in item_columns if c not in [\"barcode\", \"brandCode\"]\n",
        "]\n",
        "\n",
        "receipts_items_df = exploded_receipts_df.select(\n",
        "    \"key\",\"dateScanned\", \"createDate\", *selected_columns\n",
        "    )\n",
        "\n",
        "receipts_items_df.printSchema()\n",
        "\n",
        "# Define a function to extract barcode and brandCode into a struct\n",
        "def extract_barcode_brandCode(item):\n",
        "    return struct(item.barcode.alias(\"barcode\"), item.brandCode.alias(\"brandCode\"))\n",
        "\n",
        "new_receipts_df = receipts_df.withColumn(\n",
        "    \"rewardsReceiptItemList\",\n",
        "    transform(\"rewardsReceiptItemList\", extract_barcode_brandCode)\n",
        ")\n",
        "\n",
        "new_receipts_df.printSchema()\n"
      ],
      "metadata": {
        "id": "JzVNTuhjAxM1",
        "colab": {
          "base_uri": "https://localhost:8080/"
        },
        "outputId": "0611cdd8-353b-4cb7-de12-ff62ae49d57b"
      },
      "execution_count": 114,
      "outputs": [
        {
          "output_type": "stream",
          "name": "stdout",
          "text": [
            "root\n",
            " |-- key: struct (nullable = false)\n",
            " |    |-- _id: struct (nullable = true)\n",
            " |    |    |-- $oid: string (nullable = true)\n",
            " |    |-- barcode: string (nullable = true)\n",
            " |    |-- brandCode: string (nullable = true)\n",
            " |-- dateScanned: struct (nullable = true)\n",
            " |    |-- $date: long (nullable = true)\n",
            " |-- createDate: struct (nullable = true)\n",
            " |    |-- $date: long (nullable = true)\n",
            " |-- competitiveProduct: boolean (nullable = true)\n",
            " |-- competitorRewardsGroup: string (nullable = true)\n",
            " |-- deleted: boolean (nullable = true)\n",
            " |-- description: string (nullable = true)\n",
            " |-- discountedItemPrice: string (nullable = true)\n",
            " |-- finalPrice: string (nullable = true)\n",
            " |-- itemNumber: string (nullable = true)\n",
            " |-- itemPrice: string (nullable = true)\n",
            " |-- metabriteCampaignId: string (nullable = true)\n",
            " |-- needsFetchReview: boolean (nullable = true)\n",
            " |-- needsFetchReviewReason: string (nullable = true)\n",
            " |-- originalFinalPrice: string (nullable = true)\n",
            " |-- originalMetaBriteBarcode: string (nullable = true)\n",
            " |-- originalMetaBriteDescription: string (nullable = true)\n",
            " |-- originalMetaBriteItemPrice: string (nullable = true)\n",
            " |-- originalMetaBriteQuantityPurchased: long (nullable = true)\n",
            " |-- originalReceiptItemText: string (nullable = true)\n",
            " |-- partnerItemId: string (nullable = true)\n",
            " |-- pointsEarned: string (nullable = true)\n",
            " |-- pointsNotAwardedReason: string (nullable = true)\n",
            " |-- pointsPayerId: string (nullable = true)\n",
            " |-- preventTargetGapPoints: boolean (nullable = true)\n",
            " |-- priceAfterCoupon: string (nullable = true)\n",
            " |-- quantityPurchased: long (nullable = true)\n",
            " |-- rewardsGroup: string (nullable = true)\n",
            " |-- rewardsProductPartnerId: string (nullable = true)\n",
            " |-- targetPrice: string (nullable = true)\n",
            " |-- userFlaggedBarcode: string (nullable = true)\n",
            " |-- userFlaggedDescription: string (nullable = true)\n",
            " |-- userFlaggedNewItem: boolean (nullable = true)\n",
            " |-- userFlaggedPrice: string (nullable = true)\n",
            " |-- userFlaggedQuantity: long (nullable = true)\n",
            "\n",
            "root\n",
            " |-- _id: struct (nullable = true)\n",
            " |    |-- $oid: string (nullable = true)\n",
            " |-- bonusPointsEarned: long (nullable = true)\n",
            " |-- bonusPointsEarnedReason: string (nullable = true)\n",
            " |-- createDate: struct (nullable = true)\n",
            " |    |-- $date: long (nullable = true)\n",
            " |-- dateScanned: struct (nullable = true)\n",
            " |    |-- $date: long (nullable = true)\n",
            " |-- finishedDate: struct (nullable = true)\n",
            " |    |-- $date: long (nullable = true)\n",
            " |-- modifyDate: struct (nullable = true)\n",
            " |    |-- $date: long (nullable = true)\n",
            " |-- pointsAwardedDate: struct (nullable = true)\n",
            " |    |-- $date: long (nullable = true)\n",
            " |-- pointsEarned: string (nullable = true)\n",
            " |-- purchaseDate: struct (nullable = true)\n",
            " |    |-- $date: long (nullable = true)\n",
            " |-- purchasedItemCount: long (nullable = true)\n",
            " |-- rewardsReceiptItemList: array (nullable = true)\n",
            " |    |-- element: struct (containsNull = false)\n",
            " |    |    |-- barcode: string (nullable = true)\n",
            " |    |    |-- brandCode: string (nullable = true)\n",
            " |-- rewardsReceiptStatus: string (nullable = true)\n",
            " |-- totalSpent: string (nullable = true)\n",
            " |-- userId: string (nullable = true)\n",
            "\n"
          ]
        }
      ]
    },
    {
      "cell_type": "markdown",
      "source": [
        "## predetermined questions"
      ],
      "metadata": {
        "id": "ARjFZdxcnJYv"
      }
    },
    {
      "cell_type": "markdown",
      "source": [
        "### What are the top 5 brands by receipts scanned for most recent month?\n",
        "\n",
        "As 2021-03 don't have any record contains brand info, I will instead take 2021-02 as the most recent month.\n",
        "\n",
        "\n",
        "1.   BRAND\n",
        "2.   MISSION\n",
        "3.   VIVA\n",
        "4.   N/A\n",
        "5.   N/A\n"
      ],
      "metadata": {
        "id": "Z4NLjZK9nZP_"
      }
    },
    {
      "cell_type": "code",
      "source": [
        "brands_df.createOrReplaceTempView(\"brands\")\n",
        "receipts_items_df.createOrReplaceTempView(\"receiptsItems\")\n",
        "\n",
        "spark.sql(\"\"\"\n",
        "with etc as (\n",
        "  select key.brandCode, sum(quantityPurchased)\n",
        "  from receiptsItems\n",
        "  where key.brandCode is not null\n",
        "    and year(date(from_unixtime(dateScanned.`$date`/1000))) = 2021\n",
        "    and month(date(from_unixtime(dateScanned.`$date`/1000))) = 2\n",
        "  group by 1\n",
        "  order by 2 desc\n",
        "  limit 5\n",
        ")\n",
        "\n",
        "select etc.*, name\n",
        "from etc\n",
        "left join brands\n",
        "  on etc.brandCode = brands.brandCode\n",
        "\n",
        "\"\"\").show(10, False)\n",
        "\n",
        "# Return 2021-03\n",
        "# spark.sql(\"\"\"\n",
        "# select\n",
        "#   year(max(date(from_unixtime(dateScanned.`$date`/1000)))) as latest_year,\n",
        "#   month(max(date(from_unixtime(dateScanned.`$date`/1000)))) as latest_month\n",
        "# from receiptsItems\n",
        "# \"\"\").show(10, False)"
      ],
      "metadata": {
        "colab": {
          "base_uri": "https://localhost:8080/"
        },
        "id": "q3S7McBSNjkD",
        "outputId": "49a3a32e-8c9e-4d7a-e52b-6d381ff660f5"
      },
      "execution_count": 130,
      "outputs": [
        {
          "output_type": "stream",
          "name": "stdout",
          "text": [
            "+---------+----------------------+----+\n",
            "|brandCode|sum(quantityPurchased)|name|\n",
            "+---------+----------------------+----+\n",
            "|BRAND    |3                     |NULL|\n",
            "|MISSION  |2                     |NULL|\n",
            "|VIVA     |1                     |Viva|\n",
            "+---------+----------------------+----+\n",
            "\n"
          ]
        }
      ]
    },
    {
      "cell_type": "markdown",
      "source": [],
      "metadata": {
        "id": "dN6nkC1bfrw_"
      }
    },
    {
      "cell_type": "markdown",
      "source": [
        "### How does the ranking of the top 5 brands by receipts scanned for the recent month compare to the ranking for the previous month?\n",
        "\n",
        "Knowing that the base line i used for the most recent month is 2021-02. Thus, I will take 2021-01 as the previous month to compare with. I per i can see from the result that previous month's ranking is completely different from the latest month. I personally think the data point is not enough for the latest month given the true that the amount of data is 6 (2021-02) versus 2702 (2021-01). More data points will be needed in order to make a further investigation and conclusion.\n",
        "\n",
        "1.   BEN AND JERRYS\n",
        "2.   KNORR\n",
        "3.   HY-VEE  \n",
        "4.   PEPSI\n",
        "5.   KLEENEX"
      ],
      "metadata": {
        "id": "zJtpHNPTsRBU"
      }
    },
    {
      "cell_type": "code",
      "source": [
        "spark.sql(\"\"\"\n",
        "with etc as (\n",
        "  select key.brandCode, sum(quantityPurchased)\n",
        "  from receiptsItems\n",
        "  where key.brandCode is not null\n",
        "    and year(date(from_unixtime(dateScanned.`$date`/1000))) = 2021\n",
        "    and month(date(from_unixtime(dateScanned.`$date`/1000))) = 1\n",
        "  group by 1\n",
        "  order by 2 desc\n",
        "  limit 5\n",
        ")\n",
        "\n",
        "select etc.*, name\n",
        "from etc\n",
        "left join brands\n",
        "  on etc.brandCode = brands.brandCode\n",
        "\n",
        "\"\"\").show(10, False)"
      ],
      "metadata": {
        "colab": {
          "base_uri": "https://localhost:8080/"
        },
        "id": "2u35ItQwZPEC",
        "outputId": "aa2af1e1-3bf0-44fc-bf65-414a6e0b8319"
      },
      "execution_count": 131,
      "outputs": [
        {
          "output_type": "stream",
          "name": "stdout",
          "text": [
            "+--------------+----------------------+-------+\n",
            "|brandCode     |sum(quantityPurchased)|name   |\n",
            "+--------------+----------------------+-------+\n",
            "|BEN AND JERRYS|425                   |NULL   |\n",
            "|KNORR         |393                   |KNORR  |\n",
            "|HY-VEE        |308                   |NULL   |\n",
            "|PEPSI         |231                   |Pepsi  |\n",
            "|KLEENEX       |135                   |Kleenex|\n",
            "+--------------+----------------------+-------+\n",
            "\n"
          ]
        }
      ]
    },
    {
      "cell_type": "markdown",
      "source": [
        "### When considering average spend from receipts with 'rewardsReceiptStatus’ of ‘Accepted’ or ‘Rejected’, which is greater?\n",
        "\n",
        "I view \"FINISHED\" as \"Accepted\". Thus, Accepted is greater."
      ],
      "metadata": {
        "id": "knvJfQ3Bwd_7"
      }
    },
    {
      "cell_type": "code",
      "source": [
        "new_receipts_df.createOrReplaceTempView(\"receipts\")\n",
        "spark.sql(\"\"\"\n",
        "select rewardsReceiptStatus, avg(totalSpent)\n",
        "from receipts\n",
        "group by 1\n",
        "\"\"\").show(10, False)\n"
      ],
      "metadata": {
        "id": "mt8H20o6NpUL",
        "colab": {
          "base_uri": "https://localhost:8080/"
        },
        "outputId": "01ea54fc-892f-45b0-f6f6-ed9b052d1131"
      },
      "execution_count": 110,
      "outputs": [
        {
          "output_type": "stream",
          "name": "stdout",
          "text": [
            "+--------------------+------------------+\n",
            "|rewardsReceiptStatus|avg(totalSpent)   |\n",
            "+--------------------+------------------+\n",
            "|SUBMITTED           |NULL              |\n",
            "|FLAGGED             |180.4517391304348 |\n",
            "|FINISHED            |80.85430501930502 |\n",
            "|REJECTED            |23.326056338028184|\n",
            "|PENDING             |28.03244897959184 |\n",
            "+--------------------+------------------+\n",
            "\n"
          ]
        }
      ]
    },
    {
      "cell_type": "markdown",
      "source": [
        "### When considering total number of items purchased from receipts with 'rewardsReceiptStatus’ of ‘Accepted’ or ‘Rejected’, which is greater?\n",
        "\n",
        "Accepted is greater"
      ],
      "metadata": {
        "id": "_65tND1syX_D"
      }
    },
    {
      "cell_type": "code",
      "source": [
        "spark.sql(\"\"\"\n",
        "select rewardsReceiptStatus, sum(purchasedItemCount)\n",
        "from receipts\n",
        "group by 1\n",
        "\"\"\").show(5, False)\n"
      ],
      "metadata": {
        "id": "YMxdqZtTglqu",
        "colab": {
          "base_uri": "https://localhost:8080/"
        },
        "outputId": "9cae94a9-f0d0-4fb3-8edf-5305e10adf8a"
      },
      "execution_count": 113,
      "outputs": [
        {
          "output_type": "stream",
          "name": "stdout",
          "text": [
            "+--------------------+-----------------------+\n",
            "|rewardsReceiptStatus|sum(purchasedItemCount)|\n",
            "+--------------------+-----------------------+\n",
            "|SUBMITTED           |NULL                   |\n",
            "|FLAGGED             |1014                   |\n",
            "|FINISHED            |8184                   |\n",
            "|REJECTED            |173                    |\n",
            "|PENDING             |NULL                   |\n",
            "+--------------------+-----------------------+\n",
            "\n"
          ]
        }
      ]
    },
    {
      "cell_type": "markdown",
      "source": [
        "### Which brand has the most spend among users who were created within the past 6 months?\n",
        "\n",
        "BEN AND JERRYS"
      ],
      "metadata": {
        "id": "awnwJDli39la"
      }
    },
    {
      "cell_type": "code",
      "source": [
        "spark.sql(\"\"\"\n",
        "with etc as (\n",
        "  select key.brandCode, sum(finalPrice)\n",
        "  from receiptsItems\n",
        "  where key.brandCode is not null\n",
        "  group by 1\n",
        "  order by 2 desc\n",
        "  limit 1\n",
        ")\n",
        "select etc.*, name\n",
        "from etc\n",
        "left join brands\n",
        "  on etc.brandCode = brands.brandCode\n",
        "\"\"\").show(5, False)"
      ],
      "metadata": {
        "colab": {
          "base_uri": "https://localhost:8080/"
        },
        "id": "aH8SRr3XzVCQ",
        "outputId": "8b602382-0435-449b-d71d-64e69eb8e071"
      },
      "execution_count": 134,
      "outputs": [
        {
          "output_type": "stream",
          "name": "stdout",
          "text": [
            "+--------------+-----------------+----+\n",
            "|brandCode     |sum(finalPrice)  |name|\n",
            "+--------------+-----------------+----+\n",
            "|BEN AND JERRYS|2149.449999999998|NULL|\n",
            "+--------------+-----------------+----+\n",
            "\n"
          ]
        }
      ]
    },
    {
      "cell_type": "markdown",
      "source": [
        "### Which brand has the most transactions among users who were created within the past 6 months?\n",
        "BEN AND JERRYS"
      ],
      "metadata": {
        "id": "dPM7mzBR4H0d"
      }
    },
    {
      "cell_type": "code",
      "source": [
        "spark.sql(\"\"\"\n",
        "with etc as (\n",
        "  select key.brandCode, count(distinct key._id.`$oid`)\n",
        "  from receiptsItems\n",
        "  where key.brandCode is not null\n",
        "  group by 1\n",
        "  order by 2 desc\n",
        "  limit 1\n",
        ")\n",
        "select etc.*, name\n",
        "from etc\n",
        "left join brands\n",
        "  on etc.brandCode = brands.brandCode\n",
        "\"\"\").show(5, False)"
      ],
      "metadata": {
        "colab": {
          "base_uri": "https://localhost:8080/"
        },
        "id": "eFCsE8HK4FGB",
        "outputId": "b5d3fb09-822a-4ae0-edeb-763f76e3f93c"
      },
      "execution_count": 135,
      "outputs": [
        {
          "output_type": "stream",
          "name": "stdout",
          "text": [
            "+--------------+----------------------------+----+\n",
            "|brandCode     |count(DISTINCT key._id.$oid)|name|\n",
            "+--------------+----------------------------+----+\n",
            "|BEN AND JERRYS|32                          |NULL|\n",
            "+--------------+----------------------------+----+\n",
            "\n"
          ]
        }
      ]
    },
    {
      "cell_type": "markdown",
      "source": [
        "### Conclusion\n",
        "\n",
        "1.   Looks like brands table is having some data missing. Need more investigation and clarification on the issue.\n",
        "2.   Some fields are being defined as struct which i don't think it's needed. e.g., _id, createDate. Need to clarify with data owner to see why we were doing so.\n",
        "3.   What is the meaning of `deleted` flag in itemList? The definition of this field will impact the way we calculate the metrics above.\n",
        "4.   Do we really need purchasedItemCount and totalSpent as we can also get these number from ItemList?\n",
        "5.   In real world, we might have to consider the partition key of table in data warehouse. This will help improving query performance while doing the data anlysis and reduce the running cost. e.g., for receipts table, we can take `createDate` as partition key to filter on the receipts that are created past certain date.\n",
        "6.   Batch job will be needed if users are still facig bad query performance."
      ],
      "metadata": {
        "id": "iAvUMBZw4nL4"
      }
    }
  ]
}